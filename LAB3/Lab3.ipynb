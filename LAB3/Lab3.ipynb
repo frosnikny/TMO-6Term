{
 "cells":[
  {
   "cell_type":"code",
   "source":[
    "import pandas as pd"
   ],
   "execution_count":2,
   "outputs":[],
   "metadata":{
    "datalore":{
     "node_id":"6pieiBk86WaraJIegf2c9U",
     "type":"CODE",
     "hide_input_from_viewers":true,
     "hide_output_from_viewers":true
    }
   }
  },
  {
   "cell_type":"code",
   "source":[
    "data = pd.read_csv('Walmart_sales.csv')\n",
    "data"
   ],
   "execution_count":3,
   "outputs":[
    {
     "data":{
      "text\/html":[
       "<div>\n",
       "<style scoped>\n",
       "    .dataframe tbody tr th:only-of-type {\n",
       "        vertical-align: middle;\n",
       "    }\n",
       "\n",
       "    .dataframe tbody tr th {\n",
       "        vertical-align: top;\n",
       "    }\n",
       "\n",
       "    .dataframe thead th {\n",
       "        text-align: right;\n",
       "    }\n",
       "<\/style>\n",
       "<table border=\"1\" class=\"dataframe\">\n",
       "  <thead>\n",
       "    <tr style=\"text-align: right;\">\n",
       "      <th><\/th>\n",
       "      <th>Store<\/th>\n",
       "      <th>Date<\/th>\n",
       "      <th>Weekly_Sales<\/th>\n",
       "      <th>Holiday_Flag<\/th>\n",
       "      <th>Temperature<\/th>\n",
       "      <th>Fuel_Price<\/th>\n",
       "      <th>CPI<\/th>\n",
       "      <th>Unemployment<\/th>\n",
       "    <\/tr>\n",
       "  <\/thead>\n",
       "  <tbody>\n",
       "    <tr>\n",
       "      <th>0<\/th>\n",
       "      <td>1<\/td>\n",
       "      <td>05-02-2010<\/td>\n",
       "      <td>1643690.90<\/td>\n",
       "      <td>0<\/td>\n",
       "      <td>42.31<\/td>\n",
       "      <td>2.572<\/td>\n",
       "      <td>211.096358<\/td>\n",
       "      <td>8.106<\/td>\n",
       "    <\/tr>\n",
       "    <tr>\n",
       "      <th>1<\/th>\n",
       "      <td>1<\/td>\n",
       "      <td>12-02-2010<\/td>\n",
       "      <td>1641957.44<\/td>\n",
       "      <td>1<\/td>\n",
       "      <td>38.51<\/td>\n",
       "      <td>2.548<\/td>\n",
       "      <td>211.242170<\/td>\n",
       "      <td>8.106<\/td>\n",
       "    <\/tr>\n",
       "    <tr>\n",
       "      <th>2<\/th>\n",
       "      <td>1<\/td>\n",
       "      <td>19-02-2010<\/td>\n",
       "      <td>1611968.17<\/td>\n",
       "      <td>0<\/td>\n",
       "      <td>39.93<\/td>\n",
       "      <td>2.514<\/td>\n",
       "      <td>211.289143<\/td>\n",
       "      <td>8.106<\/td>\n",
       "    <\/tr>\n",
       "    <tr>\n",
       "      <th>3<\/th>\n",
       "      <td>1<\/td>\n",
       "      <td>26-02-2010<\/td>\n",
       "      <td>1409727.59<\/td>\n",
       "      <td>0<\/td>\n",
       "      <td>46.63<\/td>\n",
       "      <td>2.561<\/td>\n",
       "      <td>211.319643<\/td>\n",
       "      <td>8.106<\/td>\n",
       "    <\/tr>\n",
       "    <tr>\n",
       "      <th>4<\/th>\n",
       "      <td>1<\/td>\n",
       "      <td>05-03-2010<\/td>\n",
       "      <td>1554806.68<\/td>\n",
       "      <td>0<\/td>\n",
       "      <td>46.50<\/td>\n",
       "      <td>2.625<\/td>\n",
       "      <td>211.350143<\/td>\n",
       "      <td>8.106<\/td>\n",
       "    <\/tr>\n",
       "    <tr>\n",
       "      <th>...<\/th>\n",
       "      <td>...<\/td>\n",
       "      <td>...<\/td>\n",
       "      <td>...<\/td>\n",
       "      <td>...<\/td>\n",
       "      <td>...<\/td>\n",
       "      <td>...<\/td>\n",
       "      <td>...<\/td>\n",
       "      <td>...<\/td>\n",
       "    <\/tr>\n",
       "    <tr>\n",
       "      <th>6430<\/th>\n",
       "      <td>45<\/td>\n",
       "      <td>28-09-2012<\/td>\n",
       "      <td>713173.95<\/td>\n",
       "      <td>0<\/td>\n",
       "      <td>64.88<\/td>\n",
       "      <td>3.997<\/td>\n",
       "      <td>192.013558<\/td>\n",
       "      <td>8.684<\/td>\n",
       "    <\/tr>\n",
       "    <tr>\n",
       "      <th>6431<\/th>\n",
       "      <td>45<\/td>\n",
       "      <td>05-10-2012<\/td>\n",
       "      <td>733455.07<\/td>\n",
       "      <td>0<\/td>\n",
       "      <td>64.89<\/td>\n",
       "      <td>3.985<\/td>\n",
       "      <td>192.170412<\/td>\n",
       "      <td>8.667<\/td>\n",
       "    <\/tr>\n",
       "    <tr>\n",
       "      <th>6432<\/th>\n",
       "      <td>45<\/td>\n",
       "      <td>12-10-2012<\/td>\n",
       "      <td>734464.36<\/td>\n",
       "      <td>0<\/td>\n",
       "      <td>54.47<\/td>\n",
       "      <td>4.000<\/td>\n",
       "      <td>192.327265<\/td>\n",
       "      <td>8.667<\/td>\n",
       "    <\/tr>\n",
       "    <tr>\n",
       "      <th>6433<\/th>\n",
       "      <td>45<\/td>\n",
       "      <td>19-10-2012<\/td>\n",
       "      <td>718125.53<\/td>\n",
       "      <td>0<\/td>\n",
       "      <td>56.47<\/td>\n",
       "      <td>3.969<\/td>\n",
       "      <td>192.330854<\/td>\n",
       "      <td>8.667<\/td>\n",
       "    <\/tr>\n",
       "    <tr>\n",
       "      <th>6434<\/th>\n",
       "      <td>45<\/td>\n",
       "      <td>26-10-2012<\/td>\n",
       "      <td>760281.43<\/td>\n",
       "      <td>0<\/td>\n",
       "      <td>58.85<\/td>\n",
       "      <td>3.882<\/td>\n",
       "      <td>192.308899<\/td>\n",
       "      <td>8.667<\/td>\n",
       "    <\/tr>\n",
       "  <\/tbody>\n",
       "<\/table>\n",
       "<p>6435 rows × 8 columns<\/p>\n",
       "<\/div>"
      ]
     },
     "metadata":{},
     "output_type":"display_data"
    }
   ],
   "metadata":{
    "datalore":{
     "node_id":"ACDXNdqz4gxnjR9PtOcqvP",
     "type":"CODE",
     "hide_input_from_viewers":true,
     "hide_output_from_viewers":true
    }
   }
  },
  {
   "cell_type":"code",
   "source":[
    "print(data.isnull().sum())\n",
    "data.drop([\"Date\"], axis=1, inplace=True)"
   ],
   "execution_count":4,
   "outputs":[
    {
     "name":"stdout",
     "text":[
      "Store           0\n",
      "Date            0\n",
      "Weekly_Sales    0\n",
      "Holiday_Flag    0\n",
      "Temperature     0\n",
      "Fuel_Price      0\n",
      "CPI             0\n",
      "Unemployment    0\n",
      "dtype: int64\n"
     ],
     "output_type":"stream"
    }
   ],
   "metadata":{
    "datalore":{
     "node_id":"xF00kbo2lZ23S5ri4BNoEd",
     "type":"CODE",
     "hide_input_from_viewers":true,
     "hide_output_from_viewers":true
    }
   }
  },
  {
   "cell_type":"code",
   "source":[
    "# разделение на признаки и целевую переменную\n",
    "X = data.drop([\"Weekly_Sales\"], axis=1)\n",
    "y = data[\"Weekly_Sales\"]"
   ],
   "execution_count":5,
   "outputs":[],
   "metadata":{
    "datalore":{
     "node_id":"mp0ZqWgCrZIsZeQBJRGm5x",
     "type":"CODE",
     "hide_input_from_viewers":true,
     "hide_output_from_viewers":true
    }
   }
  },
  {
   "cell_type":"code",
   "source":[
    "from sklearn.model_selection import train_test_split\n",
    "\n",
    "# разделение на обучающую и тестовую выборки\n",
    "X_train, X_test, y_train, y_test = train_test_split(X, y, test_size=0.2, random_state=42)\n",
    "\n",
    "# проверка размеров выборок\n",
    "print(\"X_train shape:\", X_train.shape)\n",
    "print(\"X_test shape:\", X_test.shape)\n",
    "print(\"y_train shape:\", y_train.shape)\n",
    "print(\"y_test shape:\", y_test.shape)"
   ],
   "execution_count":6,
   "outputs":[
    {
     "name":"stdout",
     "text":[
      "X_train shape: (5148, 6)\n",
      "X_test shape: (1287, 6)\n",
      "y_train shape: (5148,)\n",
      "y_test shape: (1287,)\n"
     ],
     "output_type":"stream"
    }
   ],
   "metadata":{
    "datalore":{
     "node_id":"aLH2YmD9SOS5Do0Dq5Imrf",
     "type":"CODE",
     "hide_input_from_viewers":true,
     "hide_output_from_viewers":true
    }
   }
  },
  {
   "cell_type":"code",
   "source":[
    "from sklearn.neighbors import KNeighborsRegressor\n",
    "from sklearn.metrics import mean_absolute_error, mean_squared_error, mean_absolute_percentage_error\n",
    "# создание экземпляра класса KNeighborsRegressor с K=5\n",
    "knn = KNeighborsRegressor(n_neighbors=5)\n",
    "\n",
    "# обучение модели\n",
    "knn.fit(X_train, y_train)\n",
    "\n",
    "# прогнозирование на тестовой выборке\n",
    "y_pred = knn.predict(X_test)\n",
    "\n",
    "# MAE - средняя абсолютная ошибка\n",
    "mae = mean_absolute_error(y_test, y_pred)\n",
    "# RMSE - среднеквадратичная ошибка (более чувствителен к наблюдением далеким от среднего)\n",
    "rmse = mean_squared_error(y_test, y_pred, squared=False)\n",
    "# MAPE - средняя абсолютная ошибка в процентах\n",
    "mape = mean_absolute_percentage_error(y_test, y_pred)\n",
    "\n",
    "print(\"MAE:\", mae)\n",
    "print(\"RMSE:\", rmse)\n",
    "print(\"MAPE:\", mape)"
   ],
   "execution_count":7,
   "outputs":[
    {
     "name":"stdout",
     "text":[
      "MAE: 191597.05669308468\n",
      "RMSE: 301749.621612451\n",
      "MAPE: 0.24296767380093\n"
     ],
     "output_type":"stream"
    }
   ],
   "metadata":{
    "datalore":{
     "node_id":"e9BSPZp6LVUiDlHORRUHKU",
     "type":"CODE",
     "hide_input_from_viewers":true,
     "hide_output_from_viewers":true
    }
   }
  },
  {
   "cell_type":"code",
   "source":[
    "from sklearn.model_selection import GridSearchCV, RandomizedSearchCV, KFold, ShuffleSplit\n",
    "from sklearn.metrics import mean_absolute_error, make_scorer\n",
    "knn = KNeighborsRegressor()\n",
    "\n",
    "# задание сетки гиперпараметров для GridSearchCV\n",
    "param_grid = {'n_neighbors': [5, 10, 15, 20]}\n",
    "\n",
    "# задание сетки гиперпараметров для RandomizedSearchCV\n",
    "param_dist = {'n_neighbors': [5, 10, 15, 20]}\n",
    "\n",
    "# задание стратегий кросс-валидации\n",
    "cv_kfold = KFold(n_splits=5, shuffle=True, random_state=42)\n",
    "cv_shuffle = ShuffleSplit(n_splits=5, test_size=0.2, random_state=42)\n",
    "\n",
    "# подбор гиперпараметра K с помощью GridSearchCV и оценка качества с помощью кросс-валидации\n",
    "grid_search = GridSearchCV(knn, param_grid, scoring=make_scorer(mean_absolute_percentage_error), cv=cv_kfold)\n",
    "grid_search.fit(X_train, y_train)\n",
    "\n",
    "print(\"Best parameters (GridSearchCV):\", grid_search.best_params_)\n",
    "print(\"MAPE (GridSearchCV):\", grid_search.best_score_)\n",
    "\n",
    "# подбор гиперпараметра K с помощью RandomizedSearchCV и оценка качества с помощью кросс-валидации\n",
    "random_search = RandomizedSearchCV(knn, param_dist, scoring=make_scorer(mean_absolute_percentage_error), cv=cv_shuffle)\n",
    "random_search.fit(X_train, y_train)\n",
    "\n",
    "print(\"Best parameters (RandomizedSearchCV):\", random_search.best_params_)\n",
    "print(\"MAPE (RandomizedSearchCV):\", random_search.best_score_)"
   ],
   "execution_count":11,
   "outputs":[
    {
     "name":"stdout",
     "text":[
      "Best parameters (GridSearchCV): {'n_neighbors': 20}\n",
      "MAPE (GridSearchCV): 0.40404523695799066\n",
      "Best parameters (RandomizedSearchCV): {'n_neighbors': 20}\n",
      "MAPE (RandomizedSearchCV): 0.4079354283992271\n"
     ],
     "output_type":"stream"
    },
    {
     "name":"stderr",
     "text":[
      "\/opt\/python\/envs\/default\/lib\/python3.8\/site-packages\/sklearn\/model_selection\/_search.py:305: UserWarning: The total space of parameters 4 is smaller than n_iter=10. Running 4 iterations. For exhaustive searches, use GridSearchCV.\n",
      "  warnings.warn(\n"
     ],
     "output_type":"stream"
    }
   ],
   "metadata":{
    "datalore":{
     "node_id":"xfjG7PYUnfuqGspvOI7dPn",
     "type":"CODE",
     "hide_input_from_viewers":true,
     "hide_output_from_viewers":true
    }
   }
  }
 ],
 "metadata":{
  "kernelspec":{
   "display_name":"Python",
   "language":"python",
   "name":"python"
  },
  "datalore":{
   "computation_mode":"JUPYTER",
   "package_manager":"pip",
   "base_environment":"default",
   "packages":[],
   "report_row_ids":[],
   "version":3
  }
 },
 "nbformat":4,
 "nbformat_minor":4
}