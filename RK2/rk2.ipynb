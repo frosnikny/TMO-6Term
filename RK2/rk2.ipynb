{
 "metadata": {
  "kernelspec": {
   "language": "python",
   "display_name": "Python 3",
   "name": "python3"
  },
  "language_info": {
   "name": "python",
   "version": "3.10.13",
   "mimetype": "text/x-python",
   "codemirror_mode": {
    "name": "ipython",
    "version": 3
   },
   "pygments_lexer": "ipython3",
   "nbconvert_exporter": "python",
   "file_extension": ".py"
  },
  "kaggle": {
   "accelerator": "none",
   "dataSources": [
    {
     "sourceId": 1078789,
     "sourceType": "datasetVersion",
     "datasetId": 95317
    }
   ],
   "dockerImageVersionId": 30715,
   "isInternetEnabled": false,
   "language": "python",
   "sourceType": "notebook",
   "isGpuEnabled": false
  }
 },
 "nbformat_minor": 4,
 "nbformat": 4,
 "cells": [
  {
   "cell_type": "markdown",
   "source": [
    "# РК 2\n",
    "## ИУ5-63Б Рассказов Н. Д.\n",
    "## Вариант 16\n",
    "## Датасет - SF Restaurant Scores - LIVES Standard"
   ],
   "metadata": {}
  },
  {
   "cell_type": "code",
   "source": [
    "import pandas as pd\n",
    "import numpy as np\n",
    "from sklearn.model_selection import train_test_split\n",
    "from sklearn.ensemble import RandomForestRegressor\n",
    "from sklearn.tree import DecisionTreeRegressor\n",
    "from sklearn.metrics import mean_squared_error, r2_score\n",
    "from sklearn.preprocessing import LabelEncoder"
   ],
   "metadata": {
    "execution": {
     "iopub.status.busy": "2024-06-02T15:47:37.663702Z",
     "iopub.execute_input": "2024-06-02T15:47:37.664089Z",
     "iopub.status.idle": "2024-06-02T15:47:39.287595Z",
     "shell.execute_reply.started": "2024-06-02T15:47:37.664057Z",
     "shell.execute_reply": "2024-06-02T15:47:39.284973Z"
    },
    "trusted": true,
    "ExecuteTime": {
     "end_time": "2024-06-04T23:34:51.468534Z",
     "start_time": "2024-06-04T23:34:44.727271Z"
    }
   },
   "execution_count": 1,
   "outputs": []
  },
  {
   "cell_type": "code",
   "source": [
    "df = pd.read_csv('restaurant-scores-lives-standard.csv')"
   ],
   "metadata": {
    "execution": {
     "iopub.status.busy": "2024-06-02T15:47:39.290340Z",
     "iopub.execute_input": "2024-06-02T15:47:39.290927Z",
     "iopub.status.idle": "2024-06-02T15:47:39.337492Z",
     "shell.execute_reply.started": "2024-06-02T15:47:39.290893Z",
     "shell.execute_reply": "2024-06-02T15:47:39.336031Z"
    },
    "trusted": true,
    "ExecuteTime": {
     "end_time": "2024-06-04T23:34:53.871901Z",
     "start_time": "2024-06-04T23:34:53.726485Z"
    }
   },
   "execution_count": 2,
   "outputs": []
  },
  {
   "cell_type": "code",
   "outputs": [
    {
     "data": {
      "text/plain": "Index(['business_id', 'business_name', 'business_address', 'business_city',\n       'business_state', 'business_postal_code', 'business_latitude',\n       'business_longitude', 'business_location', 'business_phone_number',\n       'inspection_id', 'inspection_date', 'inspection_score',\n       'inspection_type', 'violation_id', 'violation_description',\n       'risk_category', 'Neighborhoods (old)', 'Police Districts',\n       'Supervisor Districts', 'Fire Prevention Districts', 'Zip Codes',\n       'Analysis Neighborhoods'],\n      dtype='object')"
     },
     "execution_count": 4,
     "metadata": {},
     "output_type": "execute_result"
    }
   ],
   "source": [
    "df.columns"
   ],
   "metadata": {
    "collapsed": false,
    "ExecuteTime": {
     "end_time": "2024-06-04T23:37:33.631730Z",
     "start_time": "2024-06-04T23:37:33.608456Z"
    }
   },
   "execution_count": 4
  },
  {
   "cell_type": "code",
   "source": [
    "df.head()"
   ],
   "metadata": {
    "execution": {
     "iopub.status.busy": "2024-06-02T15:47:39.339458Z",
     "iopub.execute_input": "2024-06-02T15:47:39.339880Z",
     "iopub.status.idle": "2024-06-02T15:47:39.399393Z",
     "shell.execute_reply.started": "2024-06-02T15:47:39.339847Z",
     "shell.execute_reply": "2024-06-02T15:47:39.396618Z"
    },
    "trusted": true,
    "ExecuteTime": {
     "end_time": "2024-06-04T23:34:58.049344Z",
     "start_time": "2024-06-04T23:34:58.037531Z"
    }
   },
   "execution_count": 3,
   "outputs": [
    {
     "data": {
      "text/plain": "   business_id          business_name          business_address  \\\n0       101192           Cochinita #2  2 Marina Blvd Fort Mason   \n1        97975             BREADBELLY           1408 Clement St   \n2        92982  Great Gold Restaurant             3161 24th St.   \n3       101389                 HOMAGE         214 CALIFORNIA ST   \n4        85986           Pronto Pizza               798 Eddy St   \n\n   business_city business_state business_postal_code  business_latitude  \\\n0  San Francisco             CA                  NaN                NaN   \n1  San Francisco             CA                94118                NaN   \n2  San Francisco             CA                94110                NaN   \n3  San Francisco             CA                94111                NaN   \n4  San Francisco             CA                94109                NaN   \n\n   business_longitude business_location  business_phone_number  ...  \\\n0                 NaN               NaN           1.415043e+10  ...   \n1                 NaN               NaN           1.415724e+10  ...   \n2                 NaN               NaN                    NaN  ...   \n3                 NaN               NaN           1.415488e+10  ...   \n4                 NaN               NaN                    NaN  ...   \n\n         inspection_type           violation_id  \\\n0          New Ownership                    NaN   \n1  Routine - Unscheduled  97975_20190725_103124   \n2          New Ownership                    NaN   \n3       New Construction                    NaN   \n4          New Ownership  85986_20161011_103114   \n\n                               violation_description  risk_category  \\\n0                                                NaN            NaN   \n1  Inadequately cleaned or sanitized food contact...  Moderate Risk   \n2                                                NaN            NaN   \n3                                                NaN            NaN   \n4                       High risk vermin infestation      High Risk   \n\n  Neighborhoods (old) Police Districts Supervisor Districts  \\\n0                 NaN              NaN                  NaN   \n1                 NaN              NaN                  NaN   \n2                 NaN              NaN                  NaN   \n3                 NaN              NaN                  NaN   \n4                 NaN              NaN                  NaN   \n\n   Fire Prevention Districts  Zip Codes  Analysis Neighborhoods  \n0                        NaN        NaN                     NaN  \n1                        NaN        NaN                     NaN  \n2                        NaN        NaN                     NaN  \n3                        NaN        NaN                     NaN  \n4                        NaN        NaN                     NaN  \n\n[5 rows x 23 columns]",
      "text/html": "<div>\n<style scoped>\n    .dataframe tbody tr th:only-of-type {\n        vertical-align: middle;\n    }\n\n    .dataframe tbody tr th {\n        vertical-align: top;\n    }\n\n    .dataframe thead th {\n        text-align: right;\n    }\n</style>\n<table border=\"1\" class=\"dataframe\">\n  <thead>\n    <tr style=\"text-align: right;\">\n      <th></th>\n      <th>business_id</th>\n      <th>business_name</th>\n      <th>business_address</th>\n      <th>business_city</th>\n      <th>business_state</th>\n      <th>business_postal_code</th>\n      <th>business_latitude</th>\n      <th>business_longitude</th>\n      <th>business_location</th>\n      <th>business_phone_number</th>\n      <th>...</th>\n      <th>inspection_type</th>\n      <th>violation_id</th>\n      <th>violation_description</th>\n      <th>risk_category</th>\n      <th>Neighborhoods (old)</th>\n      <th>Police Districts</th>\n      <th>Supervisor Districts</th>\n      <th>Fire Prevention Districts</th>\n      <th>Zip Codes</th>\n      <th>Analysis Neighborhoods</th>\n    </tr>\n  </thead>\n  <tbody>\n    <tr>\n      <th>0</th>\n      <td>101192</td>\n      <td>Cochinita #2</td>\n      <td>2 Marina Blvd Fort Mason</td>\n      <td>San Francisco</td>\n      <td>CA</td>\n      <td>NaN</td>\n      <td>NaN</td>\n      <td>NaN</td>\n      <td>NaN</td>\n      <td>1.415043e+10</td>\n      <td>...</td>\n      <td>New Ownership</td>\n      <td>NaN</td>\n      <td>NaN</td>\n      <td>NaN</td>\n      <td>NaN</td>\n      <td>NaN</td>\n      <td>NaN</td>\n      <td>NaN</td>\n      <td>NaN</td>\n      <td>NaN</td>\n    </tr>\n    <tr>\n      <th>1</th>\n      <td>97975</td>\n      <td>BREADBELLY</td>\n      <td>1408 Clement St</td>\n      <td>San Francisco</td>\n      <td>CA</td>\n      <td>94118</td>\n      <td>NaN</td>\n      <td>NaN</td>\n      <td>NaN</td>\n      <td>1.415724e+10</td>\n      <td>...</td>\n      <td>Routine - Unscheduled</td>\n      <td>97975_20190725_103124</td>\n      <td>Inadequately cleaned or sanitized food contact...</td>\n      <td>Moderate Risk</td>\n      <td>NaN</td>\n      <td>NaN</td>\n      <td>NaN</td>\n      <td>NaN</td>\n      <td>NaN</td>\n      <td>NaN</td>\n    </tr>\n    <tr>\n      <th>2</th>\n      <td>92982</td>\n      <td>Great Gold Restaurant</td>\n      <td>3161 24th St.</td>\n      <td>San Francisco</td>\n      <td>CA</td>\n      <td>94110</td>\n      <td>NaN</td>\n      <td>NaN</td>\n      <td>NaN</td>\n      <td>NaN</td>\n      <td>...</td>\n      <td>New Ownership</td>\n      <td>NaN</td>\n      <td>NaN</td>\n      <td>NaN</td>\n      <td>NaN</td>\n      <td>NaN</td>\n      <td>NaN</td>\n      <td>NaN</td>\n      <td>NaN</td>\n      <td>NaN</td>\n    </tr>\n    <tr>\n      <th>3</th>\n      <td>101389</td>\n      <td>HOMAGE</td>\n      <td>214 CALIFORNIA ST</td>\n      <td>San Francisco</td>\n      <td>CA</td>\n      <td>94111</td>\n      <td>NaN</td>\n      <td>NaN</td>\n      <td>NaN</td>\n      <td>1.415488e+10</td>\n      <td>...</td>\n      <td>New Construction</td>\n      <td>NaN</td>\n      <td>NaN</td>\n      <td>NaN</td>\n      <td>NaN</td>\n      <td>NaN</td>\n      <td>NaN</td>\n      <td>NaN</td>\n      <td>NaN</td>\n      <td>NaN</td>\n    </tr>\n    <tr>\n      <th>4</th>\n      <td>85986</td>\n      <td>Pronto Pizza</td>\n      <td>798 Eddy St</td>\n      <td>San Francisco</td>\n      <td>CA</td>\n      <td>94109</td>\n      <td>NaN</td>\n      <td>NaN</td>\n      <td>NaN</td>\n      <td>NaN</td>\n      <td>...</td>\n      <td>New Ownership</td>\n      <td>85986_20161011_103114</td>\n      <td>High risk vermin infestation</td>\n      <td>High Risk</td>\n      <td>NaN</td>\n      <td>NaN</td>\n      <td>NaN</td>\n      <td>NaN</td>\n      <td>NaN</td>\n      <td>NaN</td>\n    </tr>\n  </tbody>\n</table>\n<p>5 rows × 23 columns</p>\n</div>"
     },
     "execution_count": 3,
     "metadata": {},
     "output_type": "execute_result"
    }
   ]
  },
  {
   "cell_type": "markdown",
   "source": [
    "#### Будем предсказывать оценку инспекции"
   ],
   "metadata": {}
  },
  {
   "cell_type": "code",
   "source": [
    "df.dropna(inplace = True)"
   ],
   "metadata": {
    "execution": {
     "iopub.status.busy": "2024-06-02T15:47:39.402574Z",
     "iopub.execute_input": "2024-06-02T15:47:39.403009Z",
     "iopub.status.idle": "2024-06-02T15:47:39.416170Z",
     "shell.execute_reply.started": "2024-06-02T15:47:39.402974Z",
     "shell.execute_reply": "2024-06-02T15:47:39.413468Z"
    },
    "trusted": true,
    "ExecuteTime": {
     "end_time": "2024-06-04T23:42:36.628115Z",
     "start_time": "2024-06-04T23:42:36.596441Z"
    }
   },
   "execution_count": 5,
   "outputs": []
  },
  {
   "cell_type": "code",
   "source": [
    "df.drop(\"business_address\", axis=1, inplace = True)\n",
    "df.drop(\"business_location\", axis=1, inplace = True)\n",
    "df.drop(\"business_phone_number\", axis=1, inplace = True)"
   ],
   "metadata": {
    "execution": {
     "iopub.status.busy": "2024-06-02T15:47:39.417802Z",
     "iopub.execute_input": "2024-06-02T15:47:39.418522Z",
     "iopub.status.idle": "2024-06-02T15:47:39.432632Z",
     "shell.execute_reply.started": "2024-06-02T15:47:39.418327Z",
     "shell.execute_reply": "2024-06-02T15:47:39.431336Z"
    },
    "trusted": true,
    "ExecuteTime": {
     "end_time": "2024-06-04T23:43:29.891134Z",
     "start_time": "2024-06-04T23:43:29.880747Z"
    }
   },
   "execution_count": 6,
   "outputs": []
  },
  {
   "cell_type": "code",
   "source": [
    "df.info()"
   ],
   "metadata": {
    "execution": {
     "iopub.status.busy": "2024-06-02T15:47:39.434129Z",
     "iopub.execute_input": "2024-06-02T15:47:39.434471Z",
     "iopub.status.idle": "2024-06-02T15:47:39.470735Z",
     "shell.execute_reply.started": "2024-06-02T15:47:39.434442Z",
     "shell.execute_reply": "2024-06-02T15:47:39.469656Z"
    },
    "trusted": true,
    "ExecuteTime": {
     "end_time": "2024-06-04T23:51:36.230314Z",
     "start_time": "2024-06-04T23:51:36.223498Z"
    }
   },
   "execution_count": 12,
   "outputs": [
    {
     "name": "stdout",
     "output_type": "stream",
     "text": [
      "<class 'pandas.core.frame.DataFrame'>\n",
      "Index: 6566 entries, 11 to 53854\n",
      "Data columns (total 20 columns):\n",
      " #   Column                     Non-Null Count  Dtype  \n",
      "---  ------                     --------------  -----  \n",
      " 0   business_id                6566 non-null   int64  \n",
      " 1   business_name              6566 non-null   object \n",
      " 2   business_city              6566 non-null   int64  \n",
      " 3   business_state             6566 non-null   int64  \n",
      " 4   business_postal_code       6566 non-null   int64  \n",
      " 5   business_latitude          6566 non-null   float64\n",
      " 6   business_longitude         6566 non-null   float64\n",
      " 7   inspection_id              6566 non-null   object \n",
      " 8   inspection_date            6566 non-null   object \n",
      " 9   inspection_score           6566 non-null   float64\n",
      " 10  inspection_type            6566 non-null   int64  \n",
      " 11  violation_id               6566 non-null   object \n",
      " 12  violation_description      6566 non-null   object \n",
      " 13  risk_category              6566 non-null   int64  \n",
      " 14  Neighborhoods (old)        6566 non-null   float64\n",
      " 15  Police Districts           6566 non-null   float64\n",
      " 16  Supervisor Districts       6566 non-null   float64\n",
      " 17  Fire Prevention Districts  6566 non-null   float64\n",
      " 18  Zip Codes                  6566 non-null   float64\n",
      " 19  Analysis Neighborhoods     6566 non-null   float64\n",
      "dtypes: float64(9), int64(6), object(5)\n",
      "memory usage: 1.1+ MB\n"
     ]
    }
   ]
  },
  {
   "cell_type": "code",
   "source": [
    "label_encoder = LabelEncoder()\n",
    "df[\"business_city\"] = label_encoder.fit_transform(df[\"business_city\"])\n",
    "df[\"business_state\"] = label_encoder.fit_transform(df[\"business_state\"])\n",
    "df[\"business_postal_code\"] = label_encoder.fit_transform(df[\"business_postal_code\"])\n",
    "df[\"inspection_type\"] = label_encoder.fit_transform(df[\"inspection_type\"])\n",
    "df[\"risk_category\"] = label_encoder.fit_transform(df[\"risk_category\"])"
   ],
   "metadata": {
    "execution": {
     "iopub.status.busy": "2024-06-02T15:47:39.472047Z",
     "iopub.execute_input": "2024-06-02T15:47:39.472644Z",
     "iopub.status.idle": "2024-06-02T15:47:39.478511Z",
     "shell.execute_reply.started": "2024-06-02T15:47:39.472602Z",
     "shell.execute_reply": "2024-06-02T15:47:39.477103Z"
    },
    "trusted": true,
    "ExecuteTime": {
     "end_time": "2024-06-04T23:49:37.639743Z",
     "start_time": "2024-06-04T23:49:37.627101Z"
    }
   },
   "execution_count": 8,
   "outputs": []
  },
  {
   "cell_type": "code",
   "outputs": [],
   "source": [
    "df.drop(\"business_name\", axis=1, inplace = True)\n",
    "df.drop(\"inspection_id\", axis=1, inplace = True)\n",
    "df.drop(\"inspection_date\", axis=1, inplace = True)\n",
    "df.drop(\"violation_id\", axis=1, inplace = True)\n",
    "df.drop(\"violation_description\", axis=1, inplace = True)"
   ],
   "metadata": {
    "collapsed": false,
    "ExecuteTime": {
     "end_time": "2024-06-04T23:52:39.408812Z",
     "start_time": "2024-06-04T23:52:39.402620Z"
    }
   },
   "execution_count": 13
  },
  {
   "cell_type": "code",
   "source": [
    "df.describe()"
   ],
   "metadata": {
    "execution": {
     "iopub.status.busy": "2024-06-02T15:47:39.480103Z",
     "iopub.execute_input": "2024-06-02T15:47:39.481710Z",
     "iopub.status.idle": "2024-06-02T15:47:39.574860Z",
     "shell.execute_reply.started": "2024-06-02T15:47:39.481657Z",
     "shell.execute_reply": "2024-06-02T15:47:39.573245Z"
    },
    "trusted": true,
    "ExecuteTime": {
     "end_time": "2024-06-04T23:52:40.891172Z",
     "start_time": "2024-06-04T23:52:40.873305Z"
    }
   },
   "execution_count": 14,
   "outputs": [
    {
     "data": {
      "text/plain": "        business_id  business_city  business_state  business_postal_code  \\\ncount   6566.000000         6566.0          6566.0           6566.000000   \nmean   17493.410600            0.0             0.0             11.442431   \nstd    24297.938715            0.0             0.0              6.856196   \nmin       54.000000            0.0             0.0              0.000000   \n25%     2397.000000            0.0             0.0              7.000000   \n50%     4804.000000            0.0             0.0             11.000000   \n75%    21982.000000            0.0             0.0             17.000000   \nmax    71909.000000            0.0             0.0             26.000000   \n\n       business_latitude  business_longitude  inspection_score  \\\ncount        6566.000000         6566.000000       6566.000000   \nmean           37.763030         -122.429826         85.840238   \nstd             0.023712            0.024573          8.247628   \nmin            37.708887         -122.510043         46.000000   \n25%            37.748855         -122.437815         81.000000   \n50%            37.764814         -122.422035         87.000000   \n75%            37.783257         -122.415109         92.000000   \nmax            37.808494         -122.380619         98.000000   \n\n       inspection_type  risk_category  Neighborhoods (old)  Police Districts  \\\ncount           6566.0     6566.00000          6566.000000       6566.000000   \nmean               0.0        1.23180            19.629455          5.384861   \nstd                0.0        0.67613            10.791533          2.573118   \nmin                0.0        0.00000             1.000000          1.000000   \n25%                0.0        1.00000            11.000000          4.000000   \n50%                0.0        1.00000            19.000000          5.000000   \n75%                0.0        2.00000            27.000000          8.000000   \nmax                0.0        2.00000            41.000000         10.000000   \n\n       Supervisor Districts  Fire Prevention Districts     Zip Codes  \\\ncount           6566.000000                6566.000000   6566.000000   \nmean               6.671185                   7.641182  20517.236065   \nstd                2.955808                   4.619384  13123.196468   \nmin                1.000000                   1.000000     54.000000   \n25%                5.000000                   2.000000     64.000000   \n50%                7.000000                   8.000000  28858.000000   \n75%                9.000000                  12.000000  28859.000000   \nmax               11.000000                  15.000000  29492.000000   \n\n       Analysis Neighborhoods  \ncount             6566.000000  \nmean                19.961925  \nstd                 11.036769  \nmin                  1.000000  \n25%                 11.000000  \n50%                 20.000000  \n75%                 29.000000  \nmax                 41.000000  ",
      "text/html": "<div>\n<style scoped>\n    .dataframe tbody tr th:only-of-type {\n        vertical-align: middle;\n    }\n\n    .dataframe tbody tr th {\n        vertical-align: top;\n    }\n\n    .dataframe thead th {\n        text-align: right;\n    }\n</style>\n<table border=\"1\" class=\"dataframe\">\n  <thead>\n    <tr style=\"text-align: right;\">\n      <th></th>\n      <th>business_id</th>\n      <th>business_city</th>\n      <th>business_state</th>\n      <th>business_postal_code</th>\n      <th>business_latitude</th>\n      <th>business_longitude</th>\n      <th>inspection_score</th>\n      <th>inspection_type</th>\n      <th>risk_category</th>\n      <th>Neighborhoods (old)</th>\n      <th>Police Districts</th>\n      <th>Supervisor Districts</th>\n      <th>Fire Prevention Districts</th>\n      <th>Zip Codes</th>\n      <th>Analysis Neighborhoods</th>\n    </tr>\n  </thead>\n  <tbody>\n    <tr>\n      <th>count</th>\n      <td>6566.000000</td>\n      <td>6566.0</td>\n      <td>6566.0</td>\n      <td>6566.000000</td>\n      <td>6566.000000</td>\n      <td>6566.000000</td>\n      <td>6566.000000</td>\n      <td>6566.0</td>\n      <td>6566.00000</td>\n      <td>6566.000000</td>\n      <td>6566.000000</td>\n      <td>6566.000000</td>\n      <td>6566.000000</td>\n      <td>6566.000000</td>\n      <td>6566.000000</td>\n    </tr>\n    <tr>\n      <th>mean</th>\n      <td>17493.410600</td>\n      <td>0.0</td>\n      <td>0.0</td>\n      <td>11.442431</td>\n      <td>37.763030</td>\n      <td>-122.429826</td>\n      <td>85.840238</td>\n      <td>0.0</td>\n      <td>1.23180</td>\n      <td>19.629455</td>\n      <td>5.384861</td>\n      <td>6.671185</td>\n      <td>7.641182</td>\n      <td>20517.236065</td>\n      <td>19.961925</td>\n    </tr>\n    <tr>\n      <th>std</th>\n      <td>24297.938715</td>\n      <td>0.0</td>\n      <td>0.0</td>\n      <td>6.856196</td>\n      <td>0.023712</td>\n      <td>0.024573</td>\n      <td>8.247628</td>\n      <td>0.0</td>\n      <td>0.67613</td>\n      <td>10.791533</td>\n      <td>2.573118</td>\n      <td>2.955808</td>\n      <td>4.619384</td>\n      <td>13123.196468</td>\n      <td>11.036769</td>\n    </tr>\n    <tr>\n      <th>min</th>\n      <td>54.000000</td>\n      <td>0.0</td>\n      <td>0.0</td>\n      <td>0.000000</td>\n      <td>37.708887</td>\n      <td>-122.510043</td>\n      <td>46.000000</td>\n      <td>0.0</td>\n      <td>0.00000</td>\n      <td>1.000000</td>\n      <td>1.000000</td>\n      <td>1.000000</td>\n      <td>1.000000</td>\n      <td>54.000000</td>\n      <td>1.000000</td>\n    </tr>\n    <tr>\n      <th>25%</th>\n      <td>2397.000000</td>\n      <td>0.0</td>\n      <td>0.0</td>\n      <td>7.000000</td>\n      <td>37.748855</td>\n      <td>-122.437815</td>\n      <td>81.000000</td>\n      <td>0.0</td>\n      <td>1.00000</td>\n      <td>11.000000</td>\n      <td>4.000000</td>\n      <td>5.000000</td>\n      <td>2.000000</td>\n      <td>64.000000</td>\n      <td>11.000000</td>\n    </tr>\n    <tr>\n      <th>50%</th>\n      <td>4804.000000</td>\n      <td>0.0</td>\n      <td>0.0</td>\n      <td>11.000000</td>\n      <td>37.764814</td>\n      <td>-122.422035</td>\n      <td>87.000000</td>\n      <td>0.0</td>\n      <td>1.00000</td>\n      <td>19.000000</td>\n      <td>5.000000</td>\n      <td>7.000000</td>\n      <td>8.000000</td>\n      <td>28858.000000</td>\n      <td>20.000000</td>\n    </tr>\n    <tr>\n      <th>75%</th>\n      <td>21982.000000</td>\n      <td>0.0</td>\n      <td>0.0</td>\n      <td>17.000000</td>\n      <td>37.783257</td>\n      <td>-122.415109</td>\n      <td>92.000000</td>\n      <td>0.0</td>\n      <td>2.00000</td>\n      <td>27.000000</td>\n      <td>8.000000</td>\n      <td>9.000000</td>\n      <td>12.000000</td>\n      <td>28859.000000</td>\n      <td>29.000000</td>\n    </tr>\n    <tr>\n      <th>max</th>\n      <td>71909.000000</td>\n      <td>0.0</td>\n      <td>0.0</td>\n      <td>26.000000</td>\n      <td>37.808494</td>\n      <td>-122.380619</td>\n      <td>98.000000</td>\n      <td>0.0</td>\n      <td>2.00000</td>\n      <td>41.000000</td>\n      <td>10.000000</td>\n      <td>11.000000</td>\n      <td>15.000000</td>\n      <td>29492.000000</td>\n      <td>41.000000</td>\n    </tr>\n  </tbody>\n</table>\n</div>"
     },
     "execution_count": 14,
     "metadata": {},
     "output_type": "execute_result"
    }
   ]
  },
  {
   "cell_type": "code",
   "source": [
    "df.size"
   ],
   "metadata": {
    "execution": {
     "iopub.status.busy": "2024-06-02T15:47:39.576382Z",
     "iopub.execute_input": "2024-06-02T15:47:39.576782Z",
     "iopub.status.idle": "2024-06-02T15:47:39.586496Z",
     "shell.execute_reply.started": "2024-06-02T15:47:39.576749Z",
     "shell.execute_reply": "2024-06-02T15:47:39.584847Z"
    },
    "trusted": true,
    "ExecuteTime": {
     "end_time": "2024-06-04T23:52:43.588829Z",
     "start_time": "2024-06-04T23:52:43.586090Z"
    }
   },
   "execution_count": 15,
   "outputs": [
    {
     "data": {
      "text/plain": "98490"
     },
     "execution_count": 15,
     "metadata": {},
     "output_type": "execute_result"
    }
   ]
  },
  {
   "cell_type": "code",
   "source": [
    "# Проведем масштабирование данных\n",
    "from sklearn.preprocessing import MinMaxScaler, StandardScaler, Normalizer\n",
    "sc2 = StandardScaler()\n",
    "sc2_data = sc2.fit_transform(df)\n",
    "sc2_data = pd.DataFrame(sc2_data, columns=df.columns)"
   ],
   "metadata": {
    "execution": {
     "iopub.status.busy": "2024-06-02T15:47:39.590404Z",
     "iopub.execute_input": "2024-06-02T15:47:39.590845Z",
     "iopub.status.idle": "2024-06-02T15:47:39.603723Z",
     "shell.execute_reply.started": "2024-06-02T15:47:39.590810Z",
     "shell.execute_reply": "2024-06-02T15:47:39.601872Z"
    },
    "trusted": true,
    "ExecuteTime": {
     "end_time": "2024-06-04T23:56:04.665081Z",
     "start_time": "2024-06-04T23:56:04.659716Z"
    }
   },
   "execution_count": 37,
   "outputs": []
  },
  {
   "cell_type": "code",
   "source": [
    "X = sc2_data.drop(columns=['inspection_score'])\n",
    "y = sc2_data['inspection_score']"
   ],
   "metadata": {
    "execution": {
     "iopub.status.busy": "2024-06-02T15:47:39.605421Z",
     "iopub.execute_input": "2024-06-02T15:47:39.606361Z",
     "iopub.status.idle": "2024-06-02T15:47:39.616188Z",
     "shell.execute_reply.started": "2024-06-02T15:47:39.606319Z",
     "shell.execute_reply": "2024-06-02T15:47:39.614939Z"
    },
    "trusted": true,
    "ExecuteTime": {
     "end_time": "2024-06-04T23:57:02.019802Z",
     "start_time": "2024-06-04T23:57:02.017263Z"
    }
   },
   "execution_count": 43,
   "outputs": []
  },
  {
   "cell_type": "code",
   "source": [
    "from sklearn.preprocessing import MinMaxScaler\n",
    "\n",
    "X_train, X_test, y_train, y_test = train_test_split(X, y, test_size=0.2, random_state=42)     "
   ],
   "metadata": {
    "execution": {
     "iopub.status.busy": "2024-06-02T15:47:39.620783Z",
     "iopub.execute_input": "2024-06-02T15:47:39.621152Z",
     "iopub.status.idle": "2024-06-02T15:47:39.631206Z",
     "shell.execute_reply.started": "2024-06-02T15:47:39.621124Z",
     "shell.execute_reply": "2024-06-02T15:47:39.629913Z"
    },
    "trusted": true,
    "ExecuteTime": {
     "end_time": "2024-06-04T23:57:02.464253Z",
     "start_time": "2024-06-04T23:57:02.461428Z"
    }
   },
   "execution_count": 44,
   "outputs": []
  },
  {
   "cell_type": "code",
   "source": [
    "# Модели\n",
    "dt_reg = DecisionTreeRegressor(random_state=0)\n",
    "rf_reg = RandomForestRegressor(n_estimators=1000, random_state=0)\n",
    "\n",
    "# Обучение моделей\n",
    "dt_reg.fit(X_train, y_train)\n",
    "rf_reg.fit(X_train, y_train)\n",
    "\n",
    "# Предсказания моделей\n",
    "y_pred_dt = dt_reg.predict(X_test)\n",
    "y_pred_rf = rf_reg.predict(X_test)"
   ],
   "metadata": {
    "execution": {
     "iopub.status.busy": "2024-06-02T15:48:26.450585Z",
     "iopub.execute_input": "2024-06-02T15:48:26.450995Z",
     "iopub.status.idle": "2024-06-02T15:48:30.733086Z",
     "shell.execute_reply.started": "2024-06-02T15:48:26.450965Z",
     "shell.execute_reply": "2024-06-02T15:48:30.731727Z"
    },
    "trusted": true,
    "ExecuteTime": {
     "end_time": "2024-06-04T23:57:11.350831Z",
     "start_time": "2024-06-04T23:57:02.863198Z"
    }
   },
   "execution_count": 45,
   "outputs": []
  },
  {
   "cell_type": "code",
   "source": [
    "dt_r2 = r2_score(y_test, y_pred_dt)\n",
    "rf_r2 = r2_score(y_test, y_pred_rf)\n",
    "dt_mse = mean_squared_error(y_test, y_pred_dt, squared=False)\n",
    "rf_mse = mean_squared_error(y_test, y_pred_rf, squared=False)"
   ],
   "metadata": {
    "execution": {
     "iopub.status.busy": "2024-06-02T15:48:33.415010Z",
     "iopub.execute_input": "2024-06-02T15:48:33.415448Z",
     "iopub.status.idle": "2024-06-02T15:48:33.426909Z",
     "shell.execute_reply.started": "2024-06-02T15:48:33.415413Z",
     "shell.execute_reply": "2024-06-02T15:48:33.425708Z"
    },
    "trusted": true,
    "ExecuteTime": {
     "end_time": "2024-06-04T23:57:11.354386Z",
     "start_time": "2024-06-04T23:57:11.351845Z"
    }
   },
   "execution_count": 46,
   "outputs": []
  },
  {
   "cell_type": "code",
   "source": [
    "print(f'Дерево решений R^2: {dt_r2:.4f}')\n",
    "print(f'Случайное дерево R^2: {rf_r2:.4f}')\n",
    "print()\n",
    "print(f'Дерево решений MSE: {dt_mse:.4f}')\n",
    "print(f'Случайное дерево MSE: {rf_mse:.4f}')"
   ],
   "metadata": {
    "execution": {
     "iopub.status.busy": "2024-06-02T15:48:48.410506Z",
     "iopub.execute_input": "2024-06-02T15:48:48.410920Z",
     "iopub.status.idle": "2024-06-02T15:48:48.416725Z",
     "shell.execute_reply.started": "2024-06-02T15:48:48.410890Z",
     "shell.execute_reply": "2024-06-02T15:48:48.415537Z"
    },
    "trusted": true,
    "ExecuteTime": {
     "end_time": "2024-06-04T23:57:11.357407Z",
     "start_time": "2024-06-04T23:57:11.355005Z"
    }
   },
   "execution_count": 47,
   "outputs": [
    {
     "name": "stdout",
     "output_type": "stream",
     "text": [
      "Дерево решений R^2: 0.6707\n",
      "Случайное дерево R^2: 0.6954\n",
      "\n",
      "Дерево решений MSE: 0.5929\n",
      "Случайное дерево MSE: 0.5703\n"
     ]
    }
   ]
  },
  {
   "cell_type": "markdown",
   "source": [
    "Я использовал две метрики: \n",
    "- R2 для определения процента данных, объясняемых моделью, а не стохаистически\n",
    "- MSE для определения квадрата отклонения предсказаний\n",
    "\n",
    "Набор входных признаков достаточно велик, поэтому вполне ожидаемо, что RandomForest выдал лучшие метрики, так как деревья решений очень чувствительны к признакам, по которым происходит ветвление."
   ],
   "metadata": {}
  }
 ]
}
